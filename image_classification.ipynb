{
  "nbformat": 4,
  "nbformat_minor": 0,
  "metadata": {
    "colab": {
      "provenance": []
    },
    "kernelspec": {
      "name": "python3",
      "display_name": "Python 3"
    },
    "language_info": {
      "name": "python"
    }
  },
  "cells": [
    {
      "cell_type": "code",
      "execution_count": 1,
      "metadata": {
        "colab": {
          "base_uri": "https://localhost:8080/"
        },
        "id": "rLP4xKOXiS6i",
        "outputId": "4ebaaa29-3787-41aa-d528-a86beeee7234"
      },
      "outputs": [
        {
          "output_type": "stream",
          "name": "stdout",
          "text": [
            "Downloading data from https://www.cs.toronto.edu/~kriz/cifar-10-python.tar.gz\n",
            "170498071/170498071 [==============================] - 6s 0us/step\n",
            "x_train shape: (50000, 32, 32, 3)\n",
            "y_train shape: (50000, 1)\n",
            "x_test shape: (10000, 32, 32, 3)\n",
            "y_test shape: (10000, 1)\n"
          ]
        }
      ],
      "source": [
        "# import library\n",
        "import numpy as np\n",
        "import matplotlib.pyplot as plt\n",
        "from keras.datasets import cifar10\n",
        "from keras.utils import to_categorical\n",
        "\n",
        "(x_train, y_train), (x_test, y_test) = cifar10.load_data()\n",
        "\n",
        "# Print the shape of the dataset\n",
        "print(\"x_train shape:\", x_train.shape)\n",
        "print(\"y_train shape:\", y_train.shape)\n",
        "print(\"x_test shape:\", x_test.shape)\n",
        "print(\"y_test shape:\", y_test.shape)\n"
      ]
    },
    {
      "cell_type": "code",
      "source": [
        "x_train = x_train.astype(\"float32\") / 255\n",
        "x_test = x_test.astype(\"float32\") / 255\n",
        "\n",
        "y_train = to_categorical(y_train, 10)\n",
        "y_test = to_categorical(y_test, 10)"
      ],
      "metadata": {
        "id": "mmN6ldf_ipgl"
      },
      "execution_count": 2,
      "outputs": []
    },
    {
      "cell_type": "code",
      "source": [
        "from keras.models import Sequential\n",
        "from keras.layers import Conv2D, MaxPooling2D, Dense, Flatten, Dropout\n",
        "\n",
        "model = Sequential()\n",
        "model.add(Conv2D(32, (3, 3), activation=\"relu\", input_shape=(32, 32, 3)))\n",
        "model.add(MaxPooling2D(pool_size=(2, 2)))\n",
        "model.add(Dropout(0.25))\n",
        "\n",
        "model.add(Conv2D(64, (3, 3), activation=\"relu\"))\n",
        "model.add(MaxPooling2D(pool_size=(2, 2)))\n",
        "model.add(Dropout(0.25))\n",
        "\n",
        "model.add(Conv2D(128, (3, 3), activation=\"relu\"))\n",
        "model.add(MaxPooling2D(pool_size=(2, 2)))\n",
        "model.add(Dropout(0.25))\n",
        "\n",
        "model.add(Flatten())\n",
        "model.add(Dense(128, activation=\"relu\"))\n",
        "model.add(Dropout(0.5))\n",
        "model.add(Dense(10, activation=\"softmax\"))\n",
        "\n",
        "model.summary()"
      ],
      "metadata": {
        "colab": {
          "base_uri": "https://localhost:8080/"
        },
        "id": "bJd_ewHGjPO7",
        "outputId": "9ac1fa7a-ac7f-4386-ca17-b0329dacbb0f"
      },
      "execution_count": 3,
      "outputs": [
        {
          "output_type": "stream",
          "name": "stdout",
          "text": [
            "Model: \"sequential\"\n",
            "_________________________________________________________________\n",
            " Layer (type)                Output Shape              Param #   \n",
            "=================================================================\n",
            " conv2d (Conv2D)             (None, 30, 30, 32)        896       \n",
            "                                                                 \n",
            " max_pooling2d (MaxPooling2  (None, 15, 15, 32)        0         \n",
            " D)                                                              \n",
            "                                                                 \n",
            " dropout (Dropout)           (None, 15, 15, 32)        0         \n",
            "                                                                 \n",
            " conv2d_1 (Conv2D)           (None, 13, 13, 64)        18496     \n",
            "                                                                 \n",
            " max_pooling2d_1 (MaxPoolin  (None, 6, 6, 64)          0         \n",
            " g2D)                                                            \n",
            "                                                                 \n",
            " dropout_1 (Dropout)         (None, 6, 6, 64)          0         \n",
            "                                                                 \n",
            " conv2d_2 (Conv2D)           (None, 4, 4, 128)         73856     \n",
            "                                                                 \n",
            " max_pooling2d_2 (MaxPoolin  (None, 2, 2, 128)         0         \n",
            " g2D)                                                            \n",
            "                                                                 \n",
            " dropout_2 (Dropout)         (None, 2, 2, 128)         0         \n",
            "                                                                 \n",
            " flatten (Flatten)           (None, 512)               0         \n",
            "                                                                 \n",
            " dense (Dense)               (None, 128)               65664     \n",
            "                                                                 \n",
            " dropout_3 (Dropout)         (None, 128)               0         \n",
            "                                                                 \n",
            " dense_1 (Dense)             (None, 10)                1290      \n",
            "                                                                 \n",
            "=================================================================\n",
            "Total params: 160202 (625.79 KB)\n",
            "Trainable params: 160202 (625.79 KB)\n",
            "Non-trainable params: 0 (0.00 Byte)\n",
            "_________________________________________________________________\n"
          ]
        }
      ]
    },
    {
      "cell_type": "code",
      "source": [
        "model.compile(optimizer=\"adam\", loss=\"categorical_crossentropy\", metrics=[\"accuracy\"])\n",
        "\n",
        "history = model.fit(x_train, y_train, batch_size=64, epochs=50, validation_data=(x_test, y_test))"
      ],
      "metadata": {
        "colab": {
          "base_uri": "https://localhost:8080/"
        },
        "id": "vmgi1VnmkOL9",
        "outputId": "420d4e16-5bff-49ae-9e16-6c282b3fbfff"
      },
      "execution_count": null,
      "outputs": [
        {
          "output_type": "stream",
          "name": "stdout",
          "text": [
            "Epoch 1/50\n",
            "782/782 [==============================] - 78s 96ms/step - loss: 1.7791 - accuracy: 0.3363 - val_loss: 1.4109 - val_accuracy: 0.4990\n",
            "Epoch 2/50\n",
            "782/782 [==============================] - 91s 116ms/step - loss: 1.4178 - accuracy: 0.4903 - val_loss: 1.2200 - val_accuracy: 0.5678\n",
            "Epoch 3/50\n",
            "782/782 [==============================] - 75s 95ms/step - loss: 1.3011 - accuracy: 0.5391 - val_loss: 1.1178 - val_accuracy: 0.6086\n",
            "Epoch 4/50\n",
            "782/782 [==============================] - 74s 94ms/step - loss: 1.2011 - accuracy: 0.5760 - val_loss: 1.0307 - val_accuracy: 0.6401\n",
            "Epoch 5/50\n",
            "782/782 [==============================] - 75s 96ms/step - loss: 1.1427 - accuracy: 0.5975 - val_loss: 0.9824 - val_accuracy: 0.6617\n",
            "Epoch 6/50\n",
            "782/782 [==============================] - 75s 96ms/step - loss: 1.0878 - accuracy: 0.6206 - val_loss: 0.9647 - val_accuracy: 0.6645\n",
            "Epoch 7/50\n",
            "782/782 [==============================] - 73s 94ms/step - loss: 1.0528 - accuracy: 0.6331 - val_loss: 0.9001 - val_accuracy: 0.6865\n",
            "Epoch 8/50\n",
            "782/782 [==============================] - 73s 94ms/step - loss: 1.0179 - accuracy: 0.6461 - val_loss: 0.9042 - val_accuracy: 0.6866\n",
            "Epoch 9/50\n",
            "782/782 [==============================] - 71s 91ms/step - loss: 0.9946 - accuracy: 0.6540 - val_loss: 0.8517 - val_accuracy: 0.7122\n",
            "Epoch 10/50\n",
            "782/782 [==============================] - 78s 99ms/step - loss: 0.9710 - accuracy: 0.6605 - val_loss: 0.8832 - val_accuracy: 0.6949\n",
            "Epoch 11/50\n",
            "782/782 [==============================] - 77s 98ms/step - loss: 0.9520 - accuracy: 0.6680 - val_loss: 0.8245 - val_accuracy: 0.7166\n",
            "Epoch 12/50\n",
            "782/782 [==============================] - 75s 96ms/step - loss: 0.9334 - accuracy: 0.6775 - val_loss: 0.8502 - val_accuracy: 0.7061\n",
            "Epoch 13/50\n",
            "782/782 [==============================] - 76s 97ms/step - loss: 0.9095 - accuracy: 0.6843 - val_loss: 0.8011 - val_accuracy: 0.7203\n",
            "Epoch 14/50\n",
            "782/782 [==============================] - 73s 93ms/step - loss: 0.9059 - accuracy: 0.6859 - val_loss: 0.7785 - val_accuracy: 0.7372\n",
            "Epoch 15/50\n",
            "782/782 [==============================] - 70s 90ms/step - loss: 0.8976 - accuracy: 0.6895 - val_loss: 0.7912 - val_accuracy: 0.7277\n",
            "Epoch 16/50\n",
            "782/782 [==============================] - 71s 91ms/step - loss: 0.8776 - accuracy: 0.6967 - val_loss: 0.7812 - val_accuracy: 0.7335\n",
            "Epoch 17/50\n",
            "128/782 [===>..........................] - ETA: 56s - loss: 0.8689 - accuracy: 0.6965"
          ]
        }
      ]
    },
    {
      "cell_type": "code",
      "source": [
        "plt.figure(figsize=(12, 4))\n",
        "plt.subplot(1, 2, 1)\n",
        "plt.plot(history.history[\"accuracy\"], label=\"accuracy\")\n",
        "plt.plot(history.history[\"val_accuracy\"], label=\"val_accuracy\")\n",
        "plt.xlabel(\"Epoch\")\n",
        "plt.ylabel(\"Accuracy\")\n",
        "plt.legend()\n",
        "\n",
        "plt.subplot(1, 2, 2)\n",
        "plt.plot(history.history[\"loss\"], label=\"loss\")\n",
        "plt.plot(history.history[\"val_loss\"], label=\"val_loss\")\n",
        "plt.xlabel(\"Epoch\")\n",
        "plt.ylabel(\"Loss\")\n",
        "plt.legend()\n",
        "\n",
        "plt.show()\n",
        "\n",
        "score = model.evaluate(x_test, y_test, verbose=0)\n",
        "print(\"Test loss:\", score[0])\n",
        "print(\"Test accuracy:\", score[1])"
      ],
      "metadata": {
        "id": "8ozV39YYkbKo"
      },
      "execution_count": null,
      "outputs": []
    },
    {
      "cell_type": "code",
      "source": [],
      "metadata": {
        "id": "6H9TUJ89n8jB"
      },
      "execution_count": null,
      "outputs": []
    }
  ]
}